{
 "cells": [
  {
   "cell_type": "code",
   "execution_count": null,
   "metadata": {},
   "outputs": [],
   "source": [
    "import numpy as np\n",
    "\n",
    "\n",
    "def max_drawdown(pc_array):\n",
    "    \"\"\"calculate the max drawdown with the portfolio changes\n",
    "    @:param pc_array: all the portfolio changes during a trading process\n",
    "    @:return: max drawdown\n",
    "    \"\"\"\n",
    "    portfolio_values = []\n",
    "    drawdown_list = []\n",
    "    max_benefit = 0\n",
    "    for i in range(pc_array.shape[0]):\n",
    "        if i > 0:\n",
    "            portfolio_values.append(portfolio_values[i - 1] * pc_array[i])\n",
    "        else:\n",
    "            portfolio_values.append(pc_array[i])\n",
    "        if portfolio_values[i] > max_benefit:\n",
    "            max_benefit = portfolio_values[i]\n",
    "            drawdown_list.append(0.0)\n",
    "        else:\n",
    "            drawdown_list.append(1.0 - portfolio_values[i] / max_benefit)\n",
    "    return max(drawdown_list)\n",
    "\n",
    "\n",
    "def sharpe(pc_array):\n",
    "    \"\"\"calculate sharpe ratio with the portfolio changes\n",
    "    @:param pc_array: all the portfolio changes during a trading process\n",
    "    @:return: sharpe ratio\n",
    "    \"\"\"\n",
    "    pc_array = pc_array - 1.0\n",
    "    return np.mean(pc_array)/np.std(pc_array)\n",
    "\n",
    "\n",
    "def moving_accumulate(pc_array, n=48):\n",
    "    acc = np.cumprod(pc_array)\n",
    "    acc[n:] = acc[n:] / acc[:-n]\n",
    "    return acc\n",
    "\n",
    "\n",
    "def positive_count(pc_array):\n",
    "    return np.sum(pc_array>1)\n",
    "\n",
    "\n",
    "def negative_count(pc_array):\n",
    "    return np.sum(pc_array<1)\n"
   ]
  }
 ],
 "metadata": {
  "kernelspec": {
   "display_name": "Python 3",
   "language": "python",
   "name": "python3"
  },
  "language_info": {
   "codemirror_mode": {
    "name": "ipython",
    "version": 3
   },
   "file_extension": ".py",
   "mimetype": "text/x-python",
   "name": "python",
   "nbconvert_exporter": "python",
   "pygments_lexer": "ipython3",
   "version": "3.7.4"
  }
 },
 "nbformat": 4,
 "nbformat_minor": 4
}
