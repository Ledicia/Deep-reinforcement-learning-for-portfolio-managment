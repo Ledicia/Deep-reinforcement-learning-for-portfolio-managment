{
 "cells": [
  {
   "cell_type": "markdown",
   "metadata": {},
   "source": [
    "# Portfolio vector memory\n",
    "\n",
    "Memory stack storing the agent actions (weight vectors of the portfolio at each batch) to consider the previous weight vector when computing the actual action."
   ]
  },
  {
   "cell_type": "code",
   "execution_count": 1,
   "metadata": {},
   "outputs": [],
   "source": [
    "import numpy as np\n",
    "class PVM():\n",
    "\n",
    "    def __init__(self, m, sample_bias, total_steps, batch_size, w_init):\n",
    "        \n",
    "        # Initialize the memory. The size of the stack is the total steps (samples in a batch?)\n",
    "        self.memory = np.transpose(np.array([w_init]*total_steps))  # Rank 2 tensor (one w init vector for all the steps)\n",
    "        self.sample_bias = sample_bias\n",
    "        self.total_steps = total_steps\n",
    "        self.batch_size = batch_size\n",
    "\n",
    "    def get_W(self, t):\n",
    "        return self.memory[:, t]  # Return the weight from the PVM at time t \n",
    "\n",
    "    def update(self, t, w):\n",
    "        self.memory[:, t] = w     # Update the weight at time t\n",
    "\n",
    "    def get_random_index(self):\n",
    "        beta = self.sample_bias\n",
    "        # A batch starting with period tb <= t − nb is picked with a geometrically distributed probability \n",
    "        # returns a valid step so you can get a training batch starting at this step\n",
    "        while 1:\n",
    "            z = np.random.geometric(p=beta)\n",
    "            tb = self.total_steps - self.batch_size + 1 - z  # To make sure that only periods from trainig set are taken\n",
    "            if tb >= 0:\n",
    "                return tb\n",
    "            "
   ]
  }
 ],
 "metadata": {
  "kernelspec": {
   "display_name": "Python 3",
   "language": "python",
   "name": "python3"
  },
  "language_info": {
   "codemirror_mode": {
    "name": "ipython",
    "version": 3
   },
   "file_extension": ".py",
   "mimetype": "text/x-python",
   "name": "python",
   "nbconvert_exporter": "python",
   "pygments_lexer": "ipython3",
   "version": "3.7.4"
  }
 },
 "nbformat": 4,
 "nbformat_minor": 4
}
